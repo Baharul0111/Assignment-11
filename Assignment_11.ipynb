{
 "cells": [
  {
   "cell_type": "code",
   "execution_count": 1,
   "metadata": {},
   "outputs": [
    {
     "data": {
      "text/plain": [
       "\"Read Mode ('r'): Opens the file for reading. The file pointer is placed at the beginning of the file.\\nWrite Mode ('w'):Opens the file for writing. If the file already exists, it truncates the file to zero length. If the file does not exist, it creates a new file.\\nAppend Mode ('a'):Opens the file for appending. The file pointer is at the end of the file, so data written to the file is added to the end.\\nBinary Mode ('b'):Opens the file in binary mode. This is used for reading or writing binary data, such as images or executable files.\\nText Mode ('t'):Opens the file in text mode. This is the default mode. In text mode, Python will handle the conversion between newline characters (\\n) in the file and the platform-specific newline representation.\\nRead and Write Mode ('r+'): Opens the file for both reading and writing. The file pointer is placed at the beginning of the file.\\nWrite and Read Mode ('w+'): Opens the file for both writing and reading. If the file already exists, it truncates the file to zero length. If the file does not exist, it creates a new file.\\nAppend and Read Mode ('a+'): Opens the file for both appending and reading. The file pointer is at the end of the file.\""
      ]
     },
     "execution_count": 1,
     "metadata": {},
     "output_type": "execute_result"
    }
   ],
   "source": [
    "#question 1\n",
    "'''open() function is used to open a file'''\n",
    "'''The different modes of opening a file are: read(r), write(w), append(a), binary(b), text(t), read and write(r+), write and read(w+), append and read(a+) mode'''\n",
    "'''Read Mode ('r'): Opens the file for reading. The file pointer is placed at the beginning of the file.\n",
    "Write Mode ('w'):Opens the file for writing. If the file already exists, it truncates the file to zero length. If the file does not exist, it creates a new file.\n",
    "Append Mode ('a'):Opens the file for appending. The file pointer is at the end of the file, so data written to the file is added to the end.\n",
    "Binary Mode ('b'):Opens the file in binary mode. This is used for reading or writing binary data, such as images or executable files.\n",
    "Text Mode ('t'):Opens the file in text mode. This is the default mode. In text mode, Python will handle the conversion between newline characters (\\n) in the file and the platform-specific newline representation.\n",
    "Read and Write Mode ('r+'): Opens the file for both reading and writing. The file pointer is placed at the beginning of the file.\n",
    "Write and Read Mode ('w+'): Opens the file for both writing and reading. If the file already exists, it truncates the file to zero length. If the file does not exist, it creates a new file.\n",
    "Append and Read Mode ('a+'): Opens the file for both appending and reading. The file pointer is at the end of the file.'''"
   ]
  },
  {
   "cell_type": "code",
   "execution_count": 2,
   "metadata": {},
   "outputs": [
    {
     "data": {
      "text/plain": [
       "'\\nIt is important because files are limited resources managed by the operating system, making sure files are closed after use will protect against hard-to-debug issues like running out of file handles or experiencing corrupted data.'"
      ]
     },
     "execution_count": 2,
     "metadata": {},
     "output_type": "execute_result"
    }
   ],
   "source": [
    "#question 2\n",
    "'''The method close() closes the opened file.'''\n",
    "'''\n",
    "It is important because files are limited resources managed by the operating system, making sure files are closed after use will protect against hard-to-debug issues like running out of file handles or experiencing corrupted data.'''"
   ]
  },
  {
   "cell_type": "code",
   "execution_count": 6,
   "metadata": {},
   "outputs": [
    {
     "name": "stdout",
     "output_type": "stream",
     "text": [
      "I want to become a Data Scientist\n"
     ]
    }
   ],
   "source": [
    "#question 3\n",
    "import logging\n",
    "logging.basicConfig(filename=\"logging_data.log\", level=logging.DEBUG)\n",
    "f= open(\"new.txt\", \"w\")\n",
    "f.write(\"I want to become a Data Scientist\")\n",
    "f.close()\n",
    "f_new=open(\"new.txt\", \"r\")\n",
    "logging.info(f_new.read())\n",
    "f_new.seek(0)\n",
    "print(f_new.read())"
   ]
  },
  {
   "cell_type": "code",
   "execution_count": 7,
   "metadata": {},
   "outputs": [
    {
     "name": "stdout",
     "output_type": "stream",
     "text": [
      "Hello Everyone\n",
      "I am Baharul Islam\n",
      "I am currently pursuing Btech from IIIT Guwahati\n",
      "\n",
      "Hello Everyone\n",
      "\n",
      "['Hello Everyone\\n', 'I am Baharul Islam\\n', 'I am currently pursuing Btech from IIIT Guwahati']\n"
     ]
    }
   ],
   "source": [
    "#question 4\n",
    "'''The read() method reads a specified number of bytes (or all bytes if no size is specified) from the file.'''\n",
    "'''The readline() method reads a single line from the file. If the size argument is provided and positive, it reads at most that many bytes.'''\n",
    "'''The readlines() method reads all lines from the file and returns them as a list of strings.'''\n",
    "f=open(\"test1.txt\", 'r')\n",
    "logging.info(f.read())\n",
    "f.seek(0)\n",
    "print(f.read())\n",
    "print()\n",
    "f.seek(0)\n",
    "logging.info(f.readline())\n",
    "f.seek(0)\n",
    "print(f.readline())\n",
    "f.seek(0)\n",
    "logging.info(f.readlines())\n",
    "f.seek(0)\n",
    "print(f.readlines())\n",
    "\n"
   ]
  },
  {
   "cell_type": "code",
   "execution_count": 8,
   "metadata": {},
   "outputs": [
    {
     "data": {
      "text/plain": [
       "'The advantages are: \\n1. Automatic resource management\\n2. Cleaner and more readable code\\n3. No explicit call to close()\\n4. support for multiple files\\n'"
      ]
     },
     "execution_count": 8,
     "metadata": {},
     "output_type": "execute_result"
    }
   ],
   "source": [
    "#question 5\n",
    "'''\n",
    "The with statement in Python is used in conjunction with the open() function to manage the opening and closing of files. This combination provides several advantages over manually managing the opening and closing of files using try, finally, or explicit calls to close().'''\n",
    "'''The advantages are: \n",
    "1. Automatic resource management\n",
    "2. Cleaner and more readable code\n",
    "3. No explicit call to close()\n",
    "4. support for multiple files\n",
    "'''"
   ]
  },
  {
   "cell_type": "code",
   "execution_count": 9,
   "metadata": {},
   "outputs": [],
   "source": [
    "#question 6\n",
    "'''The write() method is used to write a string to the file. '''\n",
    "'''The writelines() method is used to write a list of lines (strings) to the file.'''\n",
    "with open(\"example.txt\", \"w\") as f:\n",
    "    f.write(\"Hello How are you\")\n",
    "\n",
    "lines=[\"Hello\\n\", \"How are you\\n\", \"Happy or Sad?\\n\"]\n",
    "with open(\"example.txt\", 'w') as f:\n",
    "    f.writelines(lines)"
   ]
  },
  {
   "cell_type": "code",
   "execution_count": null,
   "metadata": {},
   "outputs": [],
   "source": []
  }
 ],
 "metadata": {
  "kernelspec": {
   "display_name": "Python 3",
   "language": "python",
   "name": "python3"
  },
  "language_info": {
   "codemirror_mode": {
    "name": "ipython",
    "version": 3
   },
   "file_extension": ".py",
   "mimetype": "text/x-python",
   "name": "python",
   "nbconvert_exporter": "python",
   "pygments_lexer": "ipython3",
   "version": "3.9.6"
  }
 },
 "nbformat": 4,
 "nbformat_minor": 2
}
